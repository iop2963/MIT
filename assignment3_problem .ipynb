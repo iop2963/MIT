{
 "cells": [
  {
   "cell_type": "markdown",
   "metadata": {},
   "source": [
    "> ### EEE2020-04: Data Structures & Algorithms\n",
    "\n",
    "# Assignment \\# III: Basic Data Structure & Recursion"
   ]
  },
  {
   "cell_type": "markdown",
   "metadata": {},
   "source": [
    "<div style=\"text-align: right\"> **Due date: May 17, 2018.** </div> \n",
    "<div style=\"text-align: right\"> **Please upload your file @ yscec by 8 PM.** </div> \n",
    "<h4><div style=\"text-align: right\"> **For one day late (70% credit), please send your file to your TAs in the form of [ID_Name_DSHW3.ipynb].**</div> </h4>\n",
    "<div style=\"text-align: right\"> Jongyoun Noh(노종윤): <a href=\"mailto:ro4060@gmail.com\">ro4060@gmail.com</a> </div>\n",
    "<div style=\"text-align: right\"> Dohyung Kim(김도형): <a href=\"mailto:kdhz1217@gmail.com\">kdhz1217@gmail.com</a> </div>\n",
    "<div style=\"text-align: right\"> Junghyup Lee(이중협): <a href=\"mailto:junghyup.lee@yonsei.ac.kr\">junghyup.lee@yonsei.ac.kr</a> </div>"
   ]
  },
  {
   "cell_type": "markdown",
   "metadata": {},
   "source": [
    "-------------------------------"
   ]
  },
  {
   "cell_type": "markdown",
   "metadata": {},
   "source": [
    "\n",
    "### *Assignement Instructions:*\n",
    "1. Write a program implementing a particular algorithm to solve a given problem.\n",
    "2. **Analyze the algorithm, theoretically and empirically.** \n",
    "3. **Report your results.**\n",
    "    - I encourage you to discuss ideas with other students. \n",
    "    - But, you must do assignments and labs yourself.\n",
    "    - **Do not copy any part of your friends’ code.**"
   ]
  },
  {
   "cell_type": "markdown",
   "metadata": {},
   "source": [
    "-----------------"
   ]
  },
  {
   "cell_type": "markdown",
   "metadata": {},
   "source": [
    "<h2><span style=\"color:blue\">[Insert your ID HERE] [Insert your name HERE]</span> </h2>"
   ]
  },
  {
   "cell_type": "code",
   "execution_count": null,
   "metadata": {
    "collapsed": true
   },
   "outputs": [],
   "source": [
    "import datetime\n",
    "print(\"This code is written at \" + str(datetime.datetime.now()))"
   ]
  },
  {
   "cell_type": "markdown",
   "metadata": {},
   "source": [
    "-------------------------------"
   ]
  },
  {
   "cell_type": "markdown",
   "metadata": {},
   "source": [
    "### PROBLEM I (30 POINTS): Node class를 이용한 Circular Queue구현"
   ]
  },
  {
   "cell_type": "markdown",
   "metadata": {},
   "source": [
    "**Circular Queue: **<br\\>\n",
    "> Circular Queue는 node들이 원형으로 연결되어 있는 data structure.\n",
    ">\n",
    "> Circular Queue는 buffer size(node의 개수)가 고정되어 있을 때 효율적으로 메모리를 이용할수 있는 장점이 있음.\n",
    "\n",
    "> <br\\>참고자료\n",
    "> 1. http://lktprogrammer.tistory.com/59\n",
    "> 2. https://en.wikipedia.org/wiki/Circular_buffer\n",
    "\n",
    "#### **Instruction**\n",
    "><br\\>1. Buffer size를 설정하여 Circular Queue를 만들게 되면, constructor가 호출되어 다음과 같은 작업이 진행이 됨.\n",
    ">    - Rear node를 None으로 설정. \n",
    ">    - Front node는 생성된 node중 임의의 node로 설정.        \n",
    ">    - Buffer size만큼의 node를 생성하여(모든 node의 idle data값은 None) 원형으로 연결.\n",
    ">        + Rear node가 None인 경우 queue는 empty인 것을 의미.\n",
    ">        + Rear node와 front node가 같은 경우 queue에 저장된 data수는 1개를 의미.\n",
    "\n",
    "\n",
    "><br\\>2. Circular Queue class에는 'is_empty', 'is_full', 'enqueue', 'dequeue', 'size', 'traverse' 총 6개의 operation이 존재.\n",
    ">    - is_empty : Circular Queue가 비었는지 확인. \n",
    ">    - is_full : Circular Queue가 가득 찼는지 확인. \n",
    ">    - enqueue : Item을 input으로 받아 Circular Queue에 저장. Circular Queue가 가득 찼으면 에러 메세지 출력. \n",
    ">    - dequeue : 가장 처음에 들어온 값을 제거(data값을 None으로)하며 저장되었던 값을 반환. Circular Queue가 비었으면 에러 메세지 출력. \n",
    ">    - size : Node들의 linkage를 이용하여 현재 Circular Queue에 저장된 data의 개수를 반환.\n",
    ">    - traverse : Node들의 linkage를 이용하여 front node부터 rear node까지 연결된 모든 data값을 순차적으로 출력.\n",
    "    \n",
    "><br\\>3. Circular Queue class를 구성 후 아래 주어진 sample code를 돌려서 결과값이 주어진 output과 동일한지 확인, 구현한 알고리즘에 예외 상항이 없는지 확인하여 최종 완성.  \n",
    "\n",
    "#### **채점기준**\n",
    "1. Circular Queue Class에는 front node, rear node를 지칭하는 변수만 저장되어야 하며, Buffer size 또는 data size등을 변수로 저장하여 활용하는 경우는 감점.\n",
    "2. Node를 사용하지 않고 구현하는 경우 0점이며, node class의 수정은 불가능. Node의 생성, 제거, linking은 Circular Queue의 constructor에서만 진행 가능하며, 다른 부분에서 진행하는 경우 감점.\n",
    "\n"
   ]
  },
  {
   "cell_type": "markdown",
   "metadata": {},
   "source": [
    "### Implementation"
   ]
  },
  {
   "cell_type": "code",
   "execution_count": 1,
   "metadata": {
    "collapsed": true
   },
   "outputs": [],
   "source": [
    "# The below code is given\n",
    "class Node:\n",
    "    def __init__(self, init_data):\n",
    "        self.data = init_data\n",
    "        self.next = None\n",
    "        \n",
    "    def get_data(self): \n",
    "        return self.data\n",
    "    \n",
    "    def get_next(self): \n",
    "        return self.next\n",
    "\n",
    "    def set_data(self, new_data): \n",
    "        self.data = new_data\n",
    "        \n",
    "    def set_next(self, new_next): \n",
    "        self.next = new_next\n",
    "\n",
    "######################################################################################################################################        \n",
    "class CircularQueue:\n",
    "    def __init__(self, buffer_size):\n",
    "        # CODE HERE\n",
    "    def is_empty(self):\n",
    "        # CODE HERE\n",
    "    def is_full(self):\n",
    "        # CODE HERE\n",
    "    def enqueue(self, item):\n",
    "        # CODE HERE\n",
    "    def dequeue(self):\n",
    "        # CODE HERE       \n",
    "    def size(self):\n",
    "        # CODE HERE\n",
    "    def traverse(self):\n",
    "        # CODE HERE"
   ]
  },
  {
   "cell_type": "markdown",
   "metadata": {},
   "source": [
    "### Sample Code"
   ]
  },
  {
   "cell_type": "code",
   "execution_count": 2,
   "metadata": {
    "scrolled": true
   },
   "outputs": [
    {
     "name": "stdout",
     "output_type": "stream",
     "text": [
      "------------Circular Queue with Buffer Size = 5------------\n",
      "Empty? : True\n",
      "Full? : False\n",
      "Dequeue error : The circular queue is empty\n",
      "Stored data : 1 2 \n",
      "The size of current circular queue is 2\n",
      "Enqueue error : The circular queue is full\n",
      "Enqueue error : The circular queue is full\n",
      "Stored data : 1 2 3 4 5 \n",
      "The size of current circular queue is 5\n",
      "Empty? : False\n",
      "Full? : True\n",
      "Stored data : 4 5 8 \n",
      "The size of current circular queue is 3\n",
      "The last dequeued number is 8\n",
      "Traverse error : The circular queue is empty\n",
      "The size of current circular queue is 0\n",
      "Empty? : True\n",
      "Full? : False\n",
      "------------Repeat with Same Circular Queue ------------\n",
      "Empty? : True\n",
      "Full? : False\n",
      "Dequeue error : The circular queue is empty\n",
      "Stored data : 1 2 \n",
      "The size of current circular queue is 2\n",
      "Enqueue error : The circular queue is full\n",
      "Enqueue error : The circular queue is full\n",
      "Stored data : 1 2 3 4 5 \n",
      "The size of current circular queue is 5\n",
      "Empty? : False\n",
      "Full? : True\n",
      "Stored data : 4 5 8 \n",
      "The size of current circular queue is 3\n",
      "The last dequeued number is 8\n",
      "Traverse error : The circular queue is empty\n",
      "The size of current circular queue is 0\n",
      "Empty? : True\n",
      "Full? : False\n",
      "------------Repeat with Buffer Size = 10------------\n",
      "Empty? : True\n",
      "Full? : False\n",
      "Dequeue error : The circular queue is empty\n",
      "Stored data : 1 2 \n",
      "The size of current circular queue is 2\n",
      "Stored data : 1 2 3 4 5 6 7 \n",
      "The size of current circular queue is 7\n",
      "Empty? : False\n",
      "Full? : False\n",
      "Stored data : 4 5 6 7 8 \n",
      "The size of current circular queue is 5\n",
      "The last dequeued number is 6\n",
      "Stored data : 7 8 \n",
      "The size of current circular queue is 2\n",
      "Empty? : False\n",
      "Full? : False\n"
     ]
    }
   ],
   "source": [
    "print('------------Circular Queue with Buffer Size = 5------------')\n",
    "a = CircularQueue(buffer_size=5)\n",
    "print('Empty? :', a.is_empty())\n",
    "print('Full? :', a.is_full())\n",
    "a.dequeue()\n",
    "a.enqueue(1)\n",
    "a.enqueue(2)\n",
    "a.traverse()\n",
    "print('The size of current circular queue is', a.size())\n",
    "a.enqueue(3)\n",
    "a.enqueue(4)\n",
    "a.enqueue(5)\n",
    "a.enqueue(6)\n",
    "a.enqueue(7)\n",
    "a.traverse()\n",
    "print('The size of current circular queue is', a.size())\n",
    "print('Empty? :', a.is_empty())\n",
    "print('Full? :', a.is_full())\n",
    "a.dequeue()\n",
    "a.dequeue()\n",
    "a.dequeue()\n",
    "a.enqueue(8)\n",
    "a.traverse()\n",
    "print('The size of current circular queue is', a.size())\n",
    "a.dequeue()\n",
    "a.dequeue()\n",
    "print('The last dequeued number is', a.dequeue())\n",
    "a.traverse()\n",
    "print('The size of current circular queue is', a.size())\n",
    "print('Empty? :', a.is_empty())\n",
    "print('Full? :', a.is_full())\n",
    "\n",
    "print('------------Repeat with Same Circular Queue ------------')\n",
    "print('Empty? :', a.is_empty())\n",
    "print('Full? :', a.is_full())\n",
    "a.dequeue()\n",
    "a.enqueue(1)\n",
    "a.enqueue(2)\n",
    "a.traverse()\n",
    "print('The size of current circular queue is', a.size())\n",
    "a.enqueue(3)\n",
    "a.enqueue(4)\n",
    "a.enqueue(5)\n",
    "a.enqueue(6)\n",
    "a.enqueue(7)\n",
    "a.traverse()\n",
    "print('The size of current circular queue is', a.size())\n",
    "print('Empty? :', a.is_empty())\n",
    "print('Full? :', a.is_full())\n",
    "a.dequeue()\n",
    "a.dequeue()\n",
    "a.dequeue()\n",
    "a.enqueue(8)\n",
    "a.traverse()\n",
    "print('The size of current circular queue is', a.size())\n",
    "a.dequeue()\n",
    "a.dequeue()\n",
    "print('The last dequeued number is', a.dequeue())\n",
    "a.traverse()\n",
    "print('The size of current circular queue is', a.size())\n",
    "print('Empty? :', a.is_empty())\n",
    "print('Full? :', a.is_full())\n",
    "\n",
    "print('------------Repeat with Buffer Size = 10------------')\n",
    "a = CircularQueue(buffer_size=10)\n",
    "print('Empty? :', a.is_empty())\n",
    "print('Full? :', a.is_full())\n",
    "a.dequeue()\n",
    "a.enqueue(1)\n",
    "a.enqueue(2)\n",
    "a.traverse()\n",
    "print('The size of current circular queue is', a.size())\n",
    "a.enqueue(3)\n",
    "a.enqueue(4)\n",
    "a.enqueue(5)\n",
    "a.enqueue(6)\n",
    "a.enqueue(7)\n",
    "a.traverse()\n",
    "print('The size of current circular queue is', a.size())\n",
    "print('Empty? :', a.is_empty())\n",
    "print('Full? :', a.is_full())\n",
    "a.dequeue()\n",
    "a.dequeue()\n",
    "a.dequeue()\n",
    "a.enqueue(8)\n",
    "a.traverse()\n",
    "print('The size of current circular queue is', a.size())\n",
    "a.dequeue()\n",
    "a.dequeue()\n",
    "print('The last dequeued number is', a.dequeue())\n",
    "a.traverse()\n",
    "print('The size of current circular queue is', a.size())\n",
    "print('Empty? :', a.is_empty())\n",
    "print('Full? :', a.is_full())"
   ]
  },
  {
   "cell_type": "markdown",
   "metadata": {},
   "source": [
    "### Describe your answer: "
   ]
  },
  {
   "cell_type": "markdown",
   "metadata": {},
   "source": [
    "Description Here"
   ]
  },
  {
   "cell_type": "markdown",
   "metadata": {},
   "source": [
    "-----------------"
   ]
  },
  {
   "cell_type": "markdown",
   "metadata": {},
   "source": [
    "### PROBLEM II (35 POINTS): Balanced subset 찾기"
   ]
  },
  {
   "cell_type": "markdown",
   "metadata": {},
   "source": [
    "아래 주어진 $\\texttt{check_balance}$ 함수를 완성하시오.\n",
    "> $\\texttt{check_balance}$ 함수는 입력 숫자에 대한 balanced subset을 찾아주는 함수임.\n",
    ">\n",
    "> balanced subset은 3자리 이상의 자연수이며, 이 숫자가 좌우 대칭을 만족할 경우 **balance**하다라고 정의함.\n",
    ">\n",
    "> 예를 들어, $\\texttt{check_balance(12321)}$은 12321과 232를 print한다. \n",
    "\n",
    "#### **채점기준** \n",
    "> 1. $\\texttt{check_balance}$ 함수 구현시, 제공되는 **stack class**를 사용. \n",
    ">\n",
    "> 2. 중복되는 결과는 모두 출력한다. 예를들면 123212321의 balanced subset은 12321을 2개 포함하고 있음. \n",
    ">\n",
    "> 3. 출력은 아래주어진 example 양식을 따름.\n",
    ">\n",
    "> 4. 각 length마다 나오는 output 역시 크기순으로 한번 더 정렬한다 ($\\texttt{sort}$ 함수 사용).\n",
    "\n",
    "- 함수 내부에 stack class를 복제할 경우 copy.deepcopy를 사용 (<a href=\"https://blueshw.github.io/2016/01/20/2016-01-20-shallow-copy-deep-copy/\">deepcopy관련사이트</a>).\n",
    "- Description에 자신의 알고리즘 설명\n"
   ]
  },
  {
   "cell_type": "markdown",
   "metadata": {},
   "source": [
    "### Implementation"
   ]
  },
  {
   "cell_type": "code",
   "execution_count": 3,
   "metadata": {
    "scrolled": true
   },
   "outputs": [
    {
     "name": "stdout",
     "output_type": "stream",
     "text": [
      "length 3 : 232 \n",
      "length 5 : 12321 \n"
     ]
    }
   ],
   "source": [
    "## example 1\n",
    "check_balance(12321)"
   ]
  },
  {
   "cell_type": "code",
   "execution_count": 4,
   "metadata": {},
   "outputs": [
    {
     "name": "stdout",
     "output_type": "stream",
     "text": [
      "length 3 : 212, 232, 232 \n",
      "length 5 : 12321, 12321, 32123 \n",
      "length 7 : 2321232 \n",
      "length 9 : 123212321 \n"
     ]
    }
   ],
   "source": [
    "## example 2\n",
    "check_balance(123212321)"
   ]
  },
  {
   "cell_type": "code",
   "execution_count": 5,
   "metadata": {},
   "outputs": [
    {
     "name": "stdout",
     "output_type": "stream",
     "text": [
      "length 3 : 222, 222 \n",
      "length 4 : 2222 \n",
      "length 6 : 122221 \n"
     ]
    }
   ],
   "source": [
    "## example 3\n",
    "check_balance(122221)"
   ]
  },
  {
   "cell_type": "code",
   "execution_count": 1,
   "metadata": {
    "collapsed": true
   },
   "outputs": [],
   "source": [
    "import copy\n",
    "\n",
    "class Stack:\n",
    "    def __init__(self):\n",
    "        self.items = []\n",
    "    def is_empty(self):\n",
    "        return self.items == []\n",
    "    def push(self, item):\n",
    "        self.items.insert(0, item)\n",
    "    def pop(self):\n",
    "        return self.items.pop(0)\n",
    "    def peek(self):\n",
    "        return self.items[0]\n",
    "    def size(self):\n",
    "        return len(self.items)"
   ]
  },
  {
   "cell_type": "code",
   "execution_count": 2,
   "metadata": {
    "collapsed": true
   },
   "outputs": [],
   "source": [
    "def check_balance(number):"
   ]
  },
  {
   "cell_type": "markdown",
   "metadata": {},
   "source": [
    "### Describe your answer: "
   ]
  },
  {
   "cell_type": "markdown",
   "metadata": {},
   "source": [
    "Description Here"
   ]
  },
  {
   "cell_type": "markdown",
   "metadata": {},
   "source": [
    "-----------------"
   ]
  },
  {
   "cell_type": "markdown",
   "metadata": {},
   "source": [
    "### PROBLEM III (35 POINTS): Stack, queue, and recursion"
   ]
  },
  {
   "cell_type": "markdown",
   "metadata": {},
   "source": [
    "1부터 5까지의 숫자가 stack과 queue를 거쳐 재배열될 때, 나올 수 있는 모든 경우의 sequence를 찾는 함수 구현.<br\\>\n",
    "\n",
    "한 sequence의 예시는 아래와 같다.\n",
    "\n",
    "    push(1) → queue(2) → dequeue() : seq = '2' → push(3) → pop() : seq = '23' → queue(4) → queue(5) → pop() : seq = '231' \n",
    "    → dequeue() : seq = '2314' → dequeue() : seq = '23145'\n",
    "\n",
    "#### **Instruction**\n",
    "\n",
    "> - 주어진 number list로부터 1부터 5까지 순차적으로 진행.\n",
    ">\n",
    "> - Stack과 queue는 각각 1개씩 있으며, buffer size를 초과하는 data를 저장할 수 없음.\n",
    ">\n",
    "> - Stack과 queue의 buffer size는 2로 고정함.\n",
    ">\n",
    "> - Stack 또는 queue에 숫자가 하나라도 저장되어 있다면 숫자를 빼낼 수 있음.\n",
    ">\n",
    "> - 완성된 sequence는 string 형태로 $\\texttt{global_output_list}$에 추가.\n",
    ">\n",
    "> - 함수의 input으로 들어온 stack, queue, number list, string을 복제해야 하는 상황이 있다면 $\\texttt{copy.deepcopy}$를 사용할 것.       \n",
    "\n",
    "#### **채점기준** \n",
    "> 1. **주어진 Stack과 queue를 사용하며, recursion을 이용해 구현**.\n",
    "\n",
    "\n"
   ]
  },
  {
   "cell_type": "markdown",
   "metadata": {},
   "source": [
    "### Implementation"
   ]
  },
  {
   "cell_type": "code",
   "execution_count": 3,
   "metadata": {},
   "outputs": [
    {
     "name": "stdout",
     "output_type": "stream",
     "text": [
      "1 th seq: 12345\n",
      "2 th seq: 12354\n",
      "3 th seq: 12435\n",
      "4 th seq: 12453\n",
      "5 th seq: 12534\n",
      "6 th seq: 12543\n",
      "7 th seq: 13245\n",
      "8 th seq: 13254\n",
      "9 th seq: 13425\n",
      "10 th seq: 13452\n",
      "11 th seq: 13524\n",
      "12 th seq: 13542\n",
      "13 th seq: 14235\n",
      "14 th seq: 14253\n",
      "15 th seq: 14325\n",
      "16 th seq: 14352\n",
      "17 th seq: 14523\n",
      "18 th seq: 14532\n",
      "19 th seq: 15234\n",
      "20 th seq: 15243\n",
      "21 th seq: 15324\n",
      "22 th seq: 15342\n",
      "23 th seq: 15423\n",
      "24 th seq: 21345\n",
      "25 th seq: 21354\n",
      "26 th seq: 21435\n",
      "27 th seq: 21453\n",
      "28 th seq: 21534\n",
      "29 th seq: 21543\n",
      "30 th seq: 23145\n",
      "31 th seq: 23154\n",
      "32 th seq: 23415\n",
      "33 th seq: 23451\n",
      "34 th seq: 23514\n",
      "35 th seq: 23541\n",
      "36 th seq: 24135\n",
      "37 th seq: 24153\n",
      "38 th seq: 24315\n",
      "39 th seq: 24351\n",
      "40 th seq: 24513\n",
      "41 th seq: 24531\n",
      "42 th seq: 25134\n",
      "43 th seq: 25143\n",
      "44 th seq: 25314\n",
      "45 th seq: 25341\n",
      "46 th seq: 25413\n",
      "47 th seq: 31245\n",
      "48 th seq: 31254\n",
      "49 th seq: 31425\n",
      "50 th seq: 31452\n",
      "51 th seq: 31524\n",
      "52 th seq: 31542\n",
      "53 th seq: 32145\n",
      "54 th seq: 32154\n",
      "55 th seq: 32415\n",
      "56 th seq: 32451\n",
      "57 th seq: 32514\n",
      "58 th seq: 32541\n",
      "59 th seq: 34125\n",
      "60 th seq: 34152\n",
      "61 th seq: 34215\n",
      "62 th seq: 34251\n",
      "63 th seq: 34512\n",
      "64 th seq: 34521\n",
      "65 th seq: 35124\n",
      "66 th seq: 35142\n",
      "67 th seq: 35214\n",
      "68 th seq: 35241\n",
      "69 th seq: 35412\n",
      "70 th seq: 41235\n",
      "71 th seq: 41253\n",
      "72 th seq: 41325\n",
      "73 th seq: 41352\n",
      "74 th seq: 41523\n",
      "75 th seq: 41532\n",
      "76 th seq: 42135\n",
      "77 th seq: 42153\n",
      "78 th seq: 42315\n",
      "79 th seq: 42351\n",
      "80 th seq: 42513\n",
      "81 th seq: 42531\n",
      "82 th seq: 43125\n",
      "83 th seq: 43152\n",
      "84 th seq: 43512\n",
      "85 th seq: 45123\n",
      "86 th seq: 45132\n",
      "87 th seq: 45213\n",
      "88 th seq: 45231\n",
      "89 th seq: 45312\n"
     ]
    }
   ],
   "source": [
    "# The below code is given\n",
    "class Stack:\n",
    "    def __init__(self, buffer_size = 2):\n",
    "        self.items = []\n",
    "        self.buf_size = buffer_size\n",
    "    def is_empty(self):\n",
    "        return self.items == []\n",
    "    def is_full(self):\n",
    "        return self.size() == self.buf_size\n",
    "    def push(self, item):\n",
    "        if self.is_full():\n",
    "            print('full')\n",
    "            return\n",
    "        self.items.append(item)\n",
    "    def pop(self):\n",
    "        if self.is_empty():\n",
    "            print('empty')\n",
    "            return\n",
    "        return self.items.pop()\n",
    "    def size(self):\n",
    "        return len(self.items)\n",
    "\n",
    "class Queue:\n",
    "    def __init__(self, buffer_size = 2):\n",
    "        self.items = [] \n",
    "        self.buf_size = buffer_size\n",
    "    def is_empty(self):\n",
    "        return self.items == [] \n",
    "    def is_full(self):\n",
    "        return self.size() == self.buf_size\n",
    "    def enqueue(self, item):\n",
    "        if self.is_full():\n",
    "            print('full')\n",
    "            return\n",
    "        self.items.insert(0,item) \n",
    "    def dequeue(self):\n",
    "        if self.is_empty():\n",
    "            print('empty')\n",
    "            return\n",
    "        return self.items.pop() \n",
    "    def size(self):\n",
    "        return len(self.items)\n",
    "#####################################################################################################################################    \n",
    "import copy\n",
    "\n",
    "s = Stack(2)\n",
    "q = Queue(2)\n",
    "num_list = [1,2,3,4,5]\n",
    "global_output_list = []\n",
    "\n",
    "def problem(s,q,num_list,num_seq): # s : stack // q : queue // num_list : number list // num_seq : output string for certain case\n",
    "    # Code Here\n",
    "    \n",
    "\n",
    "\n",
    "problem(s,q,num_list,'') # after this function is called, all cases should be stored in global_output_list\n",
    "global_output_list = sorted(set(global_output_list))\n",
    "for i, string in enumerate(global_output_list):\n",
    "    print(i+1,'th seq:',string)"
   ]
  },
  {
   "cell_type": "markdown",
   "metadata": {},
   "source": [
    "### Describe your answer: "
   ]
  },
  {
   "cell_type": "markdown",
   "metadata": {},
   "source": [
    "Description Here"
   ]
  },
  {
   "cell_type": "markdown",
   "metadata": {},
   "source": [
    "-----------------"
   ]
  }
 ],
 "metadata": {
  "anaconda-cloud": {},
  "kernelspec": {
   "display_name": "Python 3",
   "language": "python",
   "name": "python3"
  },
  "language_info": {
   "codemirror_mode": {
    "name": "ipython",
    "version": 3
   },
   "file_extension": ".py",
   "mimetype": "text/x-python",
   "name": "python",
   "nbconvert_exporter": "python",
   "pygments_lexer": "ipython3",
   "version": "3.6.4"
  }
 },
 "nbformat": 4,
 "nbformat_minor": 1
}
